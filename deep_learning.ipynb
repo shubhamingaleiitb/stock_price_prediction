{
  "nbformat": 4,
  "nbformat_minor": 0,
  "metadata": {
    "colab": {
      "provenance": [],
      "include_colab_link": true
    },
    "kernelspec": {
      "name": "python3",
      "display_name": "Python 3"
    }
  },
  "cells": [
    {
      "cell_type": "markdown",
      "metadata": {
        "id": "view-in-github",
        "colab_type": "text"
      },
      "source": [
        "<a href=\"https://colab.research.google.com/github/shubhamingaleiitb/stock_price_prediction/blob/main/deep_learning.ipynb\" target=\"_parent\"><img src=\"https://colab.research.google.com/assets/colab-badge.svg\" alt=\"Open In Colab\"/></a>"
      ]
    },
    {
      "cell_type": "markdown",
      "metadata": {
        "id": "QI4PhD_bi9dN"
      },
      "source": [
        "## **Importing Libraries**"
      ]
    },
    {
      "cell_type": "code",
      "metadata": {
        "id": "YXHg0pu9qDTD"
      },
      "source": [
        "import numpy as np\n",
        "import pandas as pd\n",
        "import matplotlib.pyplot as plt\n",
        "import yfinance as yf"
      ],
      "execution_count": null,
      "outputs": []
    },
    {
      "cell_type": "markdown",
      "metadata": {
        "id": "3J64HGEcjKho"
      },
      "source": [
        "## **Loading Our Dataset**"
      ]
    },
    {
      "cell_type": "code",
      "metadata": {
        "id": "U7lENEw6qWUz",
        "outputId": "9f108fbe-3dbe-476c-cb85-5f3dcaed1aea",
        "colab": {
          "base_uri": "https://localhost:8080/"
        }
      },
      "source": [
        "start = '2010-01-01'\n",
        "end = '2019-12-31'\n",
        "\n",
        "df = yf.download('AAPL', start=start, end=end)"
      ],
      "execution_count": null,
      "outputs": [
        {
          "output_type": "stream",
          "name": "stdout",
          "text": [
            "\r[*********************100%***********************]  1 of 1 completed\n"
          ]
        }
      ]
    },
    {
      "cell_type": "markdown",
      "metadata": {
        "id": "BRlUUY3XjXiz"
      },
      "source": [
        "## **Feature Extraction**"
      ]
    },
    {
      "cell_type": "markdown",
      "metadata": {
        "id": "Viji7Kqmjise"
      },
      "source": [
        " The number of the trading days and the columns:"
      ]
    },
    {
      "cell_type": "code",
      "metadata": {
        "colab": {
          "base_uri": "https://localhost:8080/"
        },
        "id": "bjWS33P7qZlU",
        "outputId": "9b2dc3a1-d6ac-44d4-ccd9-470688b19f3f"
      },
      "source": [
        "df.shape"
      ],
      "execution_count": null,
      "outputs": [
        {
          "output_type": "execute_result",
          "data": {
            "text/plain": [
              "(2515, 6)"
            ]
          },
          "metadata": {},
          "execution_count": 3
        }
      ]
    },
    {
      "cell_type": "code",
      "metadata": {
        "id": "PURXIHKhqbEk"
      },
      "source": [
        "df = df['Open'].values\n",
        "df = df.reshape(-1, 1)"
      ],
      "execution_count": null,
      "outputs": []
    },
    {
      "cell_type": "markdown",
      "metadata": {
        "id": "WQpDveLjj1SG"
      },
      "source": [
        "After extracting one column:\n"
      ]
    },
    {
      "cell_type": "code",
      "metadata": {
        "colab": {
          "base_uri": "https://localhost:8080/"
        },
        "id": "6KsMByP1qcjE",
        "outputId": "863d332b-a3bb-477c-f017-e36a6fccc870"
      },
      "source": [
        "df.shape"
      ],
      "execution_count": null,
      "outputs": [
        {
          "output_type": "execute_result",
          "data": {
            "text/plain": [
              "(2515, 1)"
            ]
          },
          "metadata": {},
          "execution_count": 5
        }
      ]
    },
    {
      "cell_type": "code",
      "metadata": {
        "colab": {
          "base_uri": "https://localhost:8080/"
        },
        "id": "khGr_t8Wqc5a",
        "outputId": "4e8b06ae-5495-4497-9c00-346bdc37b2b3"
      },
      "source": [
        "dataset_train = np.array(df[:int(df.shape[0]*0.8)])\n",
        "dataset_test = np.array(df[int(df.shape[0]*0.8):])\n",
        "print(dataset_train.shape)\n",
        "print(dataset_test.shape)"
      ],
      "execution_count": null,
      "outputs": [
        {
          "output_type": "stream",
          "name": "stdout",
          "text": [
            "(2012, 1)\n",
            "(503, 1)\n"
          ]
        }
      ]
    },
    {
      "cell_type": "markdown",
      "metadata": {
        "id": "rZZjISlFkI-7"
      },
      "source": [
        "Importing our model:"
      ]
    },
    {
      "cell_type": "code",
      "metadata": {
        "id": "SifStIG0qeNf"
      },
      "source": [
        "from sklearn.preprocessing import MinMaxScaler\n",
        "from keras.models import Sequential, load_model\n",
        "from keras.layers import LSTM, Dense, Dropout"
      ],
      "execution_count": null,
      "outputs": []
    },
    {
      "cell_type": "markdown",
      "metadata": {
        "id": "WLZ3gksMkbcL"
      },
      "source": [
        "Scaling data:"
      ]
    },
    {
      "cell_type": "code",
      "metadata": {
        "colab": {
          "base_uri": "https://localhost:8080/"
        },
        "id": "jOVxO2dtqfkt",
        "outputId": "792b1504-6346-4f26-ef8e-4275f10518f2"
      },
      "source": [
        "scaler = MinMaxScaler(feature_range=(0,1))\n",
        "dataset_train = scaler.fit_transform(dataset_train)\n",
        "dataset_train[:5]"
      ],
      "execution_count": null,
      "outputs": [
        {
          "output_type": "execute_result",
          "data": {
            "text/plain": [
              "array([[0.02037933],\n",
              "       [0.02151153],\n",
              "       [0.02129864],\n",
              "       [0.01875363],\n",
              "       [0.01735049]])"
            ]
          },
          "metadata": {},
          "execution_count": 8
        }
      ]
    },
    {
      "cell_type": "code",
      "metadata": {
        "colab": {
          "base_uri": "https://localhost:8080/"
        },
        "id": "gOBYOoPwqhU8",
        "outputId": "e40bc9bd-6a77-474f-9916-b5f799d69733"
      },
      "source": [
        "dataset_test = scaler.transform(dataset_test)\n",
        "dataset_test[:5]"
      ],
      "execution_count": null,
      "outputs": [
        {
          "output_type": "execute_result",
          "data": {
            "text/plain": [
              "array([[0.96890848],\n",
              "       [0.96646993],\n",
              "       [0.9825237 ],\n",
              "       [0.9825914 ],\n",
              "       [0.98868784]])"
            ]
          },
          "metadata": {},
          "execution_count": 9
        }
      ]
    },
    {
      "cell_type": "code",
      "metadata": {
        "id": "VhijBfE6qilr"
      },
      "source": [
        "def create_dataset(df):\n",
        "    x = []\n",
        "    y = []\n",
        "    for i in range(50, df.shape[0]):\n",
        "        x.append(df[i-50:i, 0])\n",
        "        y.append(df[i, 0])\n",
        "    x = np.array(x)\n",
        "    y = np.array(y)\n",
        "    return x,y"
      ],
      "execution_count": null,
      "outputs": []
    },
    {
      "cell_type": "markdown",
      "metadata": {
        "id": "OsVjlf9kkkJd"
      },
      "source": [
        "Creating training and testing datasets:"
      ]
    },
    {
      "cell_type": "code",
      "metadata": {
        "id": "GTXlAaGeqkJu"
      },
      "source": [
        "x_train, y_train = create_dataset(dataset_train)\n",
        "x_test, y_test = create_dataset(dataset_test)"
      ],
      "execution_count": null,
      "outputs": []
    },
    {
      "cell_type": "markdown",
      "metadata": {
        "id": "eyHweGaykp-o"
      },
      "source": [
        "Creating our LSTM model:"
      ]
    },
    {
      "cell_type": "code",
      "metadata": {
        "id": "OYSeOZLpqlYG"
      },
      "source": [
        "model = Sequential()\n",
        "model.add(LSTM(units=96, return_sequences=True, input_shape=(x_train.shape[1], 1)))\n",
        "model.add(Dropout(0.2))\n",
        "model.add(LSTM(units=96, return_sequences=True))\n",
        "model.add(Dropout(0.2))\n",
        "model.add(LSTM(units=96, return_sequences=True))\n",
        "model.add(Dropout(0.2))\n",
        "model.add(LSTM(units=96))\n",
        "model.add(Dropout(0.2))\n",
        "model.add(Dense(units=1))"
      ],
      "execution_count": null,
      "outputs": []
    },
    {
      "cell_type": "markdown",
      "metadata": {
        "id": "DI7acZOgkxxx"
      },
      "source": [
        "Reshape features for the LSTM layer:"
      ]
    },
    {
      "cell_type": "code",
      "metadata": {
        "id": "PiKmWbHNqmqI"
      },
      "source": [
        "x_train = np.reshape(x_train, (x_train.shape[0], x_train.shape[1], 1))\n",
        "x_test = np.reshape(x_test, (x_test.shape[0], x_test.shape[1], 1))"
      ],
      "execution_count": null,
      "outputs": []
    },
    {
      "cell_type": "code",
      "metadata": {
        "id": "44ci17U6qoD8"
      },
      "source": [
        "model.compile(loss='mean_squared_error', optimizer='adam')"
      ],
      "execution_count": null,
      "outputs": []
    },
    {
      "cell_type": "markdown",
      "metadata": {
        "id": "W3IkxLMflKwP"
      },
      "source": [
        "Start the training:"
      ]
    },
    {
      "cell_type": "code",
      "metadata": {
        "colab": {
          "base_uri": "https://localhost:8080/"
        },
        "id": "vo6cTmcsqpND",
        "outputId": "49a2d98f-6bdf-4376-b0a3-8699c4916625"
      },
      "source": [
        "model.fit(x_train, y_train, epochs=50, batch_size=32)\n",
        "model.save('stock_prediction.h5')"
      ],
      "execution_count": null,
      "outputs": [
        {
          "output_type": "stream",
          "name": "stdout",
          "text": [
            "Epoch 1/50\n",
            "62/62 [==============================] - 19s 165ms/step - loss: 0.0144\n",
            "Epoch 2/50\n",
            "62/62 [==============================] - 11s 175ms/step - loss: 0.0024\n",
            "Epoch 3/50\n",
            "62/62 [==============================] - 11s 174ms/step - loss: 0.0023\n",
            "Epoch 4/50\n",
            "62/62 [==============================] - 11s 175ms/step - loss: 0.0022\n",
            "Epoch 5/50\n",
            "62/62 [==============================] - 11s 177ms/step - loss: 0.0020\n",
            "Epoch 6/50\n",
            "62/62 [==============================] - 11s 173ms/step - loss: 0.0022\n",
            "Epoch 7/50\n",
            "62/62 [==============================] - 10s 158ms/step - loss: 0.0018\n",
            "Epoch 8/50\n",
            "62/62 [==============================] - 11s 175ms/step - loss: 0.0021\n",
            "Epoch 9/50\n",
            "62/62 [==============================] - 11s 175ms/step - loss: 0.0017\n",
            "Epoch 10/50\n",
            "62/62 [==============================] - 11s 176ms/step - loss: 0.0016\n",
            "Epoch 11/50\n",
            "62/62 [==============================] - 11s 176ms/step - loss: 0.0016\n",
            "Epoch 12/50\n",
            "62/62 [==============================] - 11s 176ms/step - loss: 0.0017\n",
            "Epoch 13/50\n",
            "62/62 [==============================] - 10s 159ms/step - loss: 0.0014\n",
            "Epoch 14/50\n",
            "62/62 [==============================] - 11s 174ms/step - loss: 0.0014\n",
            "Epoch 15/50\n",
            "62/62 [==============================] - 11s 176ms/step - loss: 0.0017\n",
            "Epoch 16/50\n",
            "62/62 [==============================] - 11s 176ms/step - loss: 0.0013\n",
            "Epoch 17/50\n",
            "62/62 [==============================] - 11s 175ms/step - loss: 0.0013\n",
            "Epoch 18/50\n",
            "62/62 [==============================] - 11s 176ms/step - loss: 0.0014\n",
            "Epoch 19/50\n",
            "62/62 [==============================] - 10s 162ms/step - loss: 0.0014\n",
            "Epoch 20/50\n",
            "62/62 [==============================] - 11s 169ms/step - loss: 0.0014\n",
            "Epoch 21/50\n",
            "62/62 [==============================] - 11s 176ms/step - loss: 0.0012\n",
            "Epoch 22/50\n",
            "62/62 [==============================] - 11s 175ms/step - loss: 0.0013\n",
            "Epoch 23/50\n",
            "62/62 [==============================] - 11s 175ms/step - loss: 0.0012\n",
            "Epoch 24/50\n",
            "62/62 [==============================] - 11s 176ms/step - loss: 0.0011\n",
            "Epoch 25/50\n",
            "62/62 [==============================] - 10s 169ms/step - loss: 0.0013\n",
            "Epoch 26/50\n",
            "62/62 [==============================] - 10s 164ms/step - loss: 0.0011\n",
            "Epoch 27/50\n",
            "62/62 [==============================] - 11s 177ms/step - loss: 0.0012\n",
            "Epoch 28/50\n",
            "62/62 [==============================] - 11s 177ms/step - loss: 0.0014\n",
            "Epoch 29/50\n",
            "62/62 [==============================] - 11s 177ms/step - loss: 0.0011\n",
            "Epoch 30/50\n",
            "62/62 [==============================] - 11s 177ms/step - loss: 9.4634e-04\n",
            "Epoch 31/50\n",
            "62/62 [==============================] - 11s 177ms/step - loss: 0.0011\n",
            "Epoch 32/50\n",
            "62/62 [==============================] - 10s 158ms/step - loss: 0.0010\n",
            "Epoch 33/50\n",
            "62/62 [==============================] - 11s 173ms/step - loss: 0.0011\n",
            "Epoch 34/50\n",
            "62/62 [==============================] - 11s 175ms/step - loss: 9.6138e-04\n",
            "Epoch 35/50\n",
            "62/62 [==============================] - 11s 176ms/step - loss: 0.0012\n",
            "Epoch 36/50\n",
            "62/62 [==============================] - 11s 176ms/step - loss: 0.0010\n",
            "Epoch 37/50\n",
            "62/62 [==============================] - 11s 175ms/step - loss: 0.0011\n",
            "Epoch 38/50\n",
            "62/62 [==============================] - 10s 163ms/step - loss: 0.0010\n",
            "Epoch 39/50\n",
            "62/62 [==============================] - 11s 168ms/step - loss: 8.8650e-04\n",
            "Epoch 40/50\n",
            "62/62 [==============================] - 11s 175ms/step - loss: 9.0716e-04\n",
            "Epoch 41/50\n",
            "62/62 [==============================] - 11s 176ms/step - loss: 8.9100e-04\n",
            "Epoch 42/50\n",
            "62/62 [==============================] - 11s 176ms/step - loss: 8.5756e-04\n",
            "Epoch 43/50\n",
            "62/62 [==============================] - 11s 175ms/step - loss: 8.2444e-04\n",
            "Epoch 44/50\n",
            "62/62 [==============================] - 11s 172ms/step - loss: 9.4924e-04\n",
            "Epoch 45/50\n",
            "62/62 [==============================] - 10s 160ms/step - loss: 8.0997e-04\n",
            "Epoch 46/50\n",
            "62/62 [==============================] - 11s 175ms/step - loss: 8.0834e-04\n",
            "Epoch 47/50\n",
            "62/62 [==============================] - 11s 175ms/step - loss: 9.1513e-04\n",
            "Epoch 48/50\n",
            "62/62 [==============================] - 11s 176ms/step - loss: 7.4875e-04\n",
            "Epoch 49/50\n",
            "62/62 [==============================] - 11s 176ms/step - loss: 8.6042e-04\n",
            "Epoch 50/50\n",
            "62/62 [==============================] - 11s 176ms/step - loss: 8.1463e-04\n"
          ]
        }
      ]
    },
    {
      "cell_type": "code",
      "metadata": {
        "id": "U7dv9iH5qrj3"
      },
      "source": [
        "model = load_model('stock_prediction.h5')"
      ],
      "execution_count": null,
      "outputs": []
    },
    {
      "cell_type": "markdown",
      "metadata": {
        "id": "lcjQocoRlO2J"
      },
      "source": [
        "## **Results visualization**"
      ]
    },
    {
      "cell_type": "code",
      "metadata": {
        "colab": {
          "base_uri": "https://localhost:8080/",
          "height": 645
        },
        "id": "qBduTqNBso4K",
        "outputId": "0407e3b4-58a8-4fb5-e276-6dfa42461c28"
      },
      "source": [
        "predictions = model.predict(x_test)\n",
        "predictions = scaler.inverse_transform(predictions)\n",
        "y_test_scaled = scaler.inverse_transform(y_test.reshape(-1, 1))\n",
        "\n",
        "fig, ax = plt.subplots(figsize=(16,8))\n",
        "ax.set_facecolor('#000041')\n",
        "ax.plot(y_test_scaled, color='red', label='Original price')\n",
        "plt.plot(predictions, color='cyan', label='Predicted price')\n",
        "plt.legend()"
      ],
      "execution_count": null,
      "outputs": [
        {
          "output_type": "stream",
          "name": "stdout",
          "text": [
            "15/15 [==============================] - 2s 46ms/step\n"
          ]
        },
        {
          "output_type": "execute_result",
          "data": {
            "text/plain": [
              "<matplotlib.legend.Legend at 0x7f0127e1fd30>"
            ]
          },
          "metadata": {},
          "execution_count": 17
        },
        {
          "output_type": "display_data",
          "data": {
            "text/plain": [
              "<Figure size 1600x800 with 1 Axes>"
            ],
            "image/png": "[encoded data removed]"
          },
          "metadata": {}
        }
      ]
    }
  ]
}